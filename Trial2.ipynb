{
 "cells": [
  {
   "cell_type": "code",
   "execution_count": null,
   "id": "00b7429b-e181-4906-8413-a7041cf79f2a",
   "metadata": {},
   "outputs": [],
   "source": [
    "import pandas as pd\n",
    "\n",
    "# Assuming df is your DataFrame\n",
    "data = pd.read_csv('/content/drive/MyDrive/ML Project/grocery_ratings.csv')\n",
    "df['date'] = pd.to_datetime(df['date'], unit='s')  # Convert timestamp to datetime\n",
    "\n",
    "# Sort interactions for each user by date\n",
    "df = df.sort_values(by=['reviewerID', 'date'])\n",
    "\n",
    "# Create user-item interaction sequences\n",
    "user_sequences = df.groupby('reviewerID').agg(list)\n",
    "\n",
    "# Example output structure:\n",
    "# reviewerID: ['product_id_seq', 'rating_seq']\n",
    "print(user_sequences.head())\n"
   ]
  },
  {
   "cell_type": "markdown",
   "id": "9c7e6449-bc5c-45e6-b42d-2cb46e866107",
   "metadata": {},
   "source": [
    "## data split"
   ]
  },
  {
   "cell_type": "code",
   "execution_count": null,
   "id": "3548b27c-c2b7-43ad-ba83-ae1368259350",
   "metadata": {},
   "outputs": [],
   "source": [
    "def split_sequences(data, train_ratio=0.8):\n",
    "    X_train, X_test, Y_train, Y_test = [], [], [], []\n",
    "    \n",
    "    for index, row in data.iterrows():\n",
    "        num_train = int(len(row['product_id']) * train_ratio)\n",
    "        \n",
    "        # Train on first `num_train` products, predict the rest\n",
    "        X_train.append(row['product_id'][:num_train])\n",
    "        Y_train.append(row['rating'][:num_train])\n",
    "        \n",
    "        X_test.append(row['product_id'][num_train:])\n",
    "        Y_test.append(row['rating'][num_train:])\n",
    "        \n",
    "    return X_train, X_test, Y_train, Y_test\n",
    "\n",
    "X_train, X_test, Y_train, Y_test = split_sequences(user_sequences)\n"
   ]
  },
  {
   "cell_type": "markdown",
   "id": "8885ad8a-01dd-4c9e-b09c-888c355664d6",
   "metadata": {},
   "source": [
    "Model architecture"
   ]
  },
  {
   "cell_type": "code",
   "execution_count": null,
   "id": "ed45e9d5-2435-45f4-8911-a54d46af5b5d",
   "metadata": {},
   "outputs": [],
   "source": [
    "import torch\n",
    "import torch.nn as nn\n",
    "\n",
    "class RatingPredictionModel(nn.Module):\n",
    "    def __init__(self, input_size, hidden_size, output_size):\n",
    "        super(RatingPredictionModel, self).__init__()\n",
    "        self.lstm = nn.LSTM(input_size, hidden_size, batch_first=True)\n",
    "        self.fc = nn.Linear(hidden_size, output_size)\n",
    "\n",
    "    def forward(self, x):\n",
    "        lstm_out, _ = self.lstm(x)\n",
    "        out = self.fc(lstm_out[:, -1, :])  # Predict the next rating based on last output\n",
    "        return out\n",
    "\n",
    "# Define model parameters\n",
    "input_size = len(X_train[0][0])  # Product ID and rating embedding size\n",
    "hidden_size = 128\n",
    "output_size = 1  # Predicting a single rating\n",
    "\n",
    "model = RatingPredictionModel(input_size, hidden_size, output_size)\n"
   ]
  },
  {
   "cell_type": "markdown",
   "id": "99451fab-cd4e-42dc-a7d1-e6aef6279e49",
   "metadata": {},
   "source": [
    "## loss and evaluation"
   ]
  },
  {
   "cell_type": "code",
   "execution_count": null,
   "id": "1e62d6f1-29eb-4a09-a2a5-0916ada5e655",
   "metadata": {},
   "outputs": [],
   "source": [
    "criterion = nn.MSELoss()\n",
    "optimizer = torch.optim.Adam(model.parameters(), lr=0.001)\n",
    "\n",
    "# During training, compare predicted ratings with Y_train and use MSE for loss\n"
   ]
  },
  {
   "cell_type": "code",
   "execution_count": null,
   "id": "a9207b8d-ac84-47bc-ab0d-0f8c34c13560",
   "metadata": {},
   "outputs": [],
   "source": [
    "import numpy as np\n",
    "\n",
    "# After prediction\n",
    "def evaluate(predictions, targets):\n",
    "    mse = np.mean((predictions - targets)**2)\n",
    "    rmse = np.sqrt(mse)\n",
    "    mae = np.mean(np.abs(predictions - targets))\n",
    "    return rmse, mae\n",
    "\n",
    "# Example usage after model prediction\n",
    "# predictions = model(X_test)\n",
    "# rmse, mae = evaluate(predictions, Y_test)\n"
   ]
  }
 ],
 "metadata": {
  "kernelspec": {
   "display_name": "Python 3 (ipykernel)",
   "language": "python",
   "name": "python3"
  },
  "language_info": {
   "codemirror_mode": {
    "name": "ipython",
    "version": 3
   },
   "file_extension": ".py",
   "mimetype": "text/x-python",
   "name": "python",
   "nbconvert_exporter": "python",
   "pygments_lexer": "ipython3",
   "version": "3.8.8"
  }
 },
 "nbformat": 4,
 "nbformat_minor": 5
}
